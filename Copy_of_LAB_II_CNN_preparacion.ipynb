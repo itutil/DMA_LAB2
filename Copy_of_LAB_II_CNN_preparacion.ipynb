{
  "nbformat": 4,
  "nbformat_minor": 0,
  "metadata": {
    "colab": {
      "name": "Copy of LAB II CNN - preparacion.ipynb",
      "provenance": [],
      "collapsed_sections": [],
      "machine_shape": "hm",
      "include_colab_link": true
    },
    "kernelspec": {
      "name": "python3",
      "display_name": "Python 3"
    }
  },
  "cells": [
    {
      "cell_type": "markdown",
      "metadata": {
        "id": "view-in-github",
        "colab_type": "text"
      },
      "source": [
        "<a href=\"https://colab.research.google.com/github/itutil/DMA_LAB2/blob/master/Copy_of_LAB_II_CNN_preparacion.ipynb\" target=\"_parent\"><img src=\"https://colab.research.google.com/assets/colab-badge.svg\" alt=\"Open In Colab\"/></a>"
      ]
    },
    {
      "cell_type": "code",
      "metadata": {
        "id": "p2ckC-u5ok41",
        "colab_type": "code",
        "outputId": "0e971625-34ba-425b-b16d-7efd55a28149",
        "colab": {
          "base_uri": "https://localhost:8080/",
          "height": 448
        }
      },
      "source": [
        "!wget https://www.dropbox.com/sh/thozj6v32v6doan/AAB_lzZGAr3ASO-sEWTnKTRLa/datasetsOri/paquete_premium.zip"
      ],
      "execution_count": 0,
      "outputs": [
        {
          "output_type": "stream",
          "text": [
            "--2019-12-07 00:57:10--  https://www.dropbox.com/sh/thozj6v32v6doan/AAB_lzZGAr3ASO-sEWTnKTRLa/datasetsOri/paquete_premium.zip\n",
            "Resolving www.dropbox.com (www.dropbox.com)... 162.125.9.1, 2620:100:601f:1::a27d:901\n",
            "Connecting to www.dropbox.com (www.dropbox.com)|162.125.9.1|:443... connected.\n",
            "HTTP request sent, awaiting response... 301 Moved Permanently\n",
            "Location: /sh/raw/thozj6v32v6doan/AAB_lzZGAr3ASO-sEWTnKTRLa/datasetsOri/paquete_premium.zip [following]\n",
            "--2019-12-07 00:57:11--  https://www.dropbox.com/sh/raw/thozj6v32v6doan/AAB_lzZGAr3ASO-sEWTnKTRLa/datasetsOri/paquete_premium.zip\n",
            "Reusing existing connection to www.dropbox.com:443.\n",
            "HTTP request sent, awaiting response... 302 Found\n",
            "Location: https://ucc903abfdfefd5e53aeafd2aac4.dl.dropboxusercontent.com/cd/0/inline/Atxfaoj1K2FNcWgXtM8v0kaRCxSDAcGkhRtJEUWADub9f2OtOXRSMBbRDdyjlT5UYuVpSEX_dYec13aOQQBufpMVzRg6e9ONS5v7Sk4usrgpLhQ68Hu_Xf_ulVaKMhn0DfM/file# [following]\n",
            "--2019-12-07 00:57:11--  https://ucc903abfdfefd5e53aeafd2aac4.dl.dropboxusercontent.com/cd/0/inline/Atxfaoj1K2FNcWgXtM8v0kaRCxSDAcGkhRtJEUWADub9f2OtOXRSMBbRDdyjlT5UYuVpSEX_dYec13aOQQBufpMVzRg6e9ONS5v7Sk4usrgpLhQ68Hu_Xf_ulVaKMhn0DfM/file\n",
            "Resolving ucc903abfdfefd5e53aeafd2aac4.dl.dropboxusercontent.com (ucc903abfdfefd5e53aeafd2aac4.dl.dropboxusercontent.com)... 162.125.9.6, 2620:100:601f:6::a27d:906\n",
            "Connecting to ucc903abfdfefd5e53aeafd2aac4.dl.dropboxusercontent.com (ucc903abfdfefd5e53aeafd2aac4.dl.dropboxusercontent.com)|162.125.9.6|:443... connected.\n",
            "HTTP request sent, awaiting response... 302 FOUND\n",
            "Location: /cd/0/inline2/AtzPcx9uv7CVSNLK9hZ_S2XtT3D0nQJyAN2D-yiwtVtCB83xlv3VnaUTGQbuTGyZjVcSZ1FzMME6D1Zj-kBBzLsnsq4SjCMlWzmeGAbM6PPHLgVyRTQiwR645AWP2GBuTQFGwFMpOBR5n2Xp0IrVj4fEEL2CKxu7899JBU72EAsxD420iollz4q_OIvCRV2HcNvArBXlXZnqtlHV_29VOXNokuvZhWWMfNUrGvK5E06aIj-fTqhhNwqEGXXh0qMmhoigrmNVcAHSjAaWXqFT798CQnuKVgS1BT1t26b8KYqnKt6IsXELstX1Mn8yQAksxbyGbSAUw85FJecXzxV6kzaoungLP8kVh_j8dh09BDaHTQ/file [following]\n",
            "--2019-12-07 00:57:12--  https://ucc903abfdfefd5e53aeafd2aac4.dl.dropboxusercontent.com/cd/0/inline2/AtzPcx9uv7CVSNLK9hZ_S2XtT3D0nQJyAN2D-yiwtVtCB83xlv3VnaUTGQbuTGyZjVcSZ1FzMME6D1Zj-kBBzLsnsq4SjCMlWzmeGAbM6PPHLgVyRTQiwR645AWP2GBuTQFGwFMpOBR5n2Xp0IrVj4fEEL2CKxu7899JBU72EAsxD420iollz4q_OIvCRV2HcNvArBXlXZnqtlHV_29VOXNokuvZhWWMfNUrGvK5E06aIj-fTqhhNwqEGXXh0qMmhoigrmNVcAHSjAaWXqFT798CQnuKVgS1BT1t26b8KYqnKt6IsXELstX1Mn8yQAksxbyGbSAUw85FJecXzxV6kzaoungLP8kVh_j8dh09BDaHTQ/file\n",
            "Reusing existing connection to ucc903abfdfefd5e53aeafd2aac4.dl.dropboxusercontent.com:443.\n",
            "HTTP request sent, awaiting response... 200 OK\n",
            "Length: 772069404 (736M) [application/zip]\n",
            "Saving to: ‘paquete_premium.zip.1’\n",
            "\n",
            "paquete_premium.zip 100%[===================>] 736.30M  45.0MB/s    in 14s     \n",
            "\n",
            "2019-12-07 00:57:26 (51.2 MB/s) - ‘paquete_premium.zip.1’ saved [772069404/772069404]\n",
            "\n"
          ],
          "name": "stdout"
        }
      ]
    },
    {
      "cell_type": "code",
      "metadata": {
        "id": "THVRKoz4FnWv",
        "colab_type": "code",
        "colab": {}
      },
      "source": [
        "import pandas as pd\n",
        "import numpy as np\n",
        "from sklearn.preprocessing import StandardScaler"
      ],
      "execution_count": 0,
      "outputs": []
    },
    {
      "cell_type": "code",
      "metadata": {
        "id": "_diAGbIFFrJg",
        "colab_type": "code",
        "outputId": "170ca351-15ad-4ec5-e0d1-08b9d0d18ad1",
        "colab": {
          "base_uri": "https://localhost:8080/",
          "height": 34
        }
      },
      "source": [
        "!ls"
      ],
      "execution_count": 0,
      "outputs": [
        {
          "output_type": "stream",
          "text": [
            "paquete_premium.zip  paquete_premium.zip.1  sample_data\n"
          ],
          "name": "stdout"
        }
      ]
    },
    {
      "cell_type": "code",
      "metadata": {
        "id": "Vaf-ooa3Lq_2",
        "colab_type": "code",
        "colab": {}
      },
      "source": [
        "data = pd.read_csv(\"./paquete_premium.zip\", sep=\"\\t\", nrows=100000)"
      ],
      "execution_count": 0,
      "outputs": []
    },
    {
      "cell_type": "code",
      "metadata": {
        "id": "joDxmDNm1MgL",
        "colab_type": "code",
        "colab": {}
      },
      "source": [
        "ct = pd.crosstab(data.foto_mes, data.clase_ternaria.isnull())\n",
        "delta = 6\n",
        "ultimo_mes = ct[ct[True] == 0].index.max()\n",
        "primer_mes = ct.index[ct.index <= ultimo_mes][-2 - delta]"
      ],
      "execution_count": 0,
      "outputs": []
    },
    {
      "cell_type": "code",
      "metadata": {
        "id": "PXqI70MJqkdG",
        "colab_type": "code",
        "outputId": "f500ce08-81aa-40cc-d7f9-cd20d4afb3c4",
        "colab": {
          "base_uri": "https://localhost:8080/",
          "height": 274
        }
      },
      "source": [
        "for c in data:\n",
        "  if c in [\"foto_mes\", \"numero_de_cliente\", \"clase_ternaria\"]:\n",
        "    continue\n",
        "  try:\n",
        "    unicos = data[c].fillna(\"NA\").nunique()\n",
        "    if (unicos == 1):\n",
        "      print(c, \"no tiene varianza\")\n",
        "      data.drop(c, axis=1, inplace=True)\n",
        "    elif (unicos < 100):\n",
        "      temp  = pd.get_dummies(data[c].fillna(\"NA\"))\n",
        "      temp.columns = [c + \"_\" + str(i) for i in temp.columns]\n",
        "      data = data.join(temp)\n",
        "    else:\n",
        "      data[c] = StandardScaler().fit_transform(data[[c]].fillna(0)).astype(np.float32)\n",
        "  except:\n",
        "    print(c, \"error\")"
      ],
      "execution_count": 0,
      "outputs": [
        {
          "output_type": "stream",
          "text": [
            "tpaquete1 no tiene varianza\n",
            "tpaquete2 no tiene varianza\n",
            "tpaquete3 no tiene varianza\n",
            "tpaquete4 no tiene varianza\n",
            "tpaquete5 no tiene varianza\n",
            "tpaquete6 no tiene varianza\n",
            "tpaquete8 no tiene varianza\n",
            "mcuenta_corriente_dolares no tiene varianza\n",
            "mbonos_corporativos no tiene varianza\n",
            "mmonedas_extranjeras no tiene varianza\n",
            "minversiones_otras no tiene varianza\n",
            "ccuenta_descuentos no tiene varianza\n",
            "mcuenta_descuentos no tiene varianza\n",
            "tautoservicio no tiene varianza\n",
            "cautoservicio_transacciones no tiene varianza\n"
          ],
          "name": "stdout"
        }
      ]
    },
    {
      "cell_type": "code",
      "metadata": {
        "id": "T8DT4rSb5Sf0",
        "colab_type": "code",
        "outputId": "51c257da-8569-49f5-f4ea-b63e783d9f36",
        "colab": {
          "base_uri": "https://localhost:8080/",
          "height": 51
        }
      },
      "source": [
        "c = \"Visa_mpagominimo\"\n",
        "data[c].fillna(\"NA\").nunique()\n",
        "StandardScaler().fit_transform(data[[c]].fillna(0)).astype(np.float32)[:, -1]"
      ],
      "execution_count": 0,
      "outputs": [
        {
          "output_type": "execute_result",
          "data": {
            "text/plain": [
              "array([-0.21014293, -0.2138037 , -0.22112523, ..., -0.14913018,\n",
              "       -0.16255298, -0.17353529], dtype=float32)"
            ]
          },
          "metadata": {
            "tags": []
          },
          "execution_count": 22
        }
      ]
    },
    {
      "cell_type": "code",
      "metadata": {
        "id": "1QC67Uddu45g",
        "colab_type": "code",
        "outputId": "56d95a84-beb6-429d-c9c8-3e0fe627cb97",
        "colab": {
          "base_uri": "https://localhost:8080/",
          "height": 417
        }
      },
      "source": [
        "data[[c]]"
      ],
      "execution_count": 0,
      "outputs": [
        {
          "output_type": "execute_result",
          "data": {
            "text/html": [
              "<div>\n",
              "<style scoped>\n",
              "    .dataframe tbody tr th:only-of-type {\n",
              "        vertical-align: middle;\n",
              "    }\n",
              "\n",
              "    .dataframe tbody tr th {\n",
              "        vertical-align: top;\n",
              "    }\n",
              "\n",
              "    .dataframe thead th {\n",
              "        text-align: right;\n",
              "    }\n",
              "</style>\n",
              "<table border=\"1\" class=\"dataframe\">\n",
              "  <thead>\n",
              "    <tr style=\"text-align: right;\">\n",
              "      <th></th>\n",
              "      <th>Visa_mpagominimo</th>\n",
              "    </tr>\n",
              "  </thead>\n",
              "  <tbody>\n",
              "    <tr>\n",
              "      <th>0</th>\n",
              "      <td>479.7</td>\n",
              "    </tr>\n",
              "    <tr>\n",
              "      <th>1</th>\n",
              "      <td>444.6</td>\n",
              "    </tr>\n",
              "    <tr>\n",
              "      <th>2</th>\n",
              "      <td>374.4</td>\n",
              "    </tr>\n",
              "    <tr>\n",
              "      <th>3</th>\n",
              "      <td>549.9</td>\n",
              "    </tr>\n",
              "    <tr>\n",
              "      <th>4</th>\n",
              "      <td>397.8</td>\n",
              "    </tr>\n",
              "    <tr>\n",
              "      <th>...</th>\n",
              "      <td>...</td>\n",
              "    </tr>\n",
              "    <tr>\n",
              "      <th>99995</th>\n",
              "      <td>1064.7</td>\n",
              "    </tr>\n",
              "    <tr>\n",
              "      <th>99996</th>\n",
              "      <td>1158.3</td>\n",
              "    </tr>\n",
              "    <tr>\n",
              "      <th>99997</th>\n",
              "      <td>1064.7</td>\n",
              "    </tr>\n",
              "    <tr>\n",
              "      <th>99998</th>\n",
              "      <td>936.0</td>\n",
              "    </tr>\n",
              "    <tr>\n",
              "      <th>99999</th>\n",
              "      <td>830.7</td>\n",
              "    </tr>\n",
              "  </tbody>\n",
              "</table>\n",
              "<p>100000 rows × 1 columns</p>\n",
              "</div>"
            ],
            "text/plain": [
              "       Visa_mpagominimo\n",
              "0                 479.7\n",
              "1                 444.6\n",
              "2                 374.4\n",
              "3                 549.9\n",
              "4                 397.8\n",
              "...                 ...\n",
              "99995            1064.7\n",
              "99996            1158.3\n",
              "99997            1064.7\n",
              "99998             936.0\n",
              "99999             830.7\n",
              "\n",
              "[100000 rows x 1 columns]"
            ]
          },
          "metadata": {
            "tags": []
          },
          "execution_count": 23
        }
      ]
    },
    {
      "cell_type": "code",
      "metadata": {
        "id": "jq-0N4vL5mVf",
        "colab_type": "code",
        "outputId": "ddf2dd43-f78b-4a07-cd40-514d5b5b82d0",
        "colab": {
          "base_uri": "https://localhost:8080/",
          "height": 223
        }
      },
      "source": [
        "data[c]"
      ],
      "execution_count": 0,
      "outputs": [
        {
          "output_type": "execute_result",
          "data": {
            "text/plain": [
              "0         479.7\n",
              "1         444.6\n",
              "2         374.4\n",
              "3         549.9\n",
              "4         397.8\n",
              "          ...  \n",
              "99995    1064.7\n",
              "99996    1158.3\n",
              "99997    1064.7\n",
              "99998     936.0\n",
              "99999     830.7\n",
              "Name: Visa_mpagominimo, Length: 100000, dtype: float64"
            ]
          },
          "metadata": {
            "tags": []
          },
          "execution_count": 24
        }
      ]
    },
    {
      "cell_type": "code",
      "metadata": {
        "id": "N3cv7ioB5oM4",
        "colab_type": "code",
        "colab": {}
      },
      "source": [
        ""
      ],
      "execution_count": 0,
      "outputs": []
    }
  ]
}